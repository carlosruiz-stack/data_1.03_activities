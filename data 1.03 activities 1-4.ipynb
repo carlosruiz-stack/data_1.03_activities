{
 "cells": [
  {
   "cell_type": "code",
   "execution_count": null,
   "id": "81c19d56",
   "metadata": {},
   "outputs": [],
   "source": [
    "import pandas as pd\n",
    "import numpy as py\n",
    "pd.set_option('display.max_columns', None) \n",
    "from scipy import stats"
   ]
  },
  {
   "cell_type": "code",
   "execution_count": null,
   "id": "410e43b3",
   "metadata": {},
   "outputs": [],
   "source": [
    "#ACTIVITY - 1"
   ]
  },
  {
   "cell_type": "code",
   "execution_count": null,
   "id": "74d8d01d",
   "metadata": {},
   "outputs": [],
   "source": [
    "dataframe1 = pd.read_csv('file3.csv')\n",
    "dataframe1"
   ]
  },
  {
   "cell_type": "code",
   "execution_count": null,
   "id": "3a2977dc",
   "metadata": {},
   "outputs": [],
   "source": []
  },
  {
   "cell_type": "code",
   "execution_count": null,
   "id": "6731a80b",
   "metadata": {},
   "outputs": [],
   "source": [
    "dataframe2 = pd.read_csv('file4.csv')\n",
    "dataframe2 "
   ]
  },
  {
   "cell_type": "code",
   "execution_count": null,
   "id": "17fe545c",
   "metadata": {},
   "outputs": [],
   "source": [
    "dataframe2['STATE'] = dataframe2['STATE'].str.lower()\n",
    "dataframe2\n",
    "dataframe2['GENDER'] = dataframe2['GENDER'].str.lower()\n",
    "dataframe2\n",
    "dataframe2['DOMAIN'] = dataframe2['DOMAIN'].str.lower()\n",
    "dataframe2"
   ]
  },
  {
   "cell_type": "code",
   "execution_count": null,
   "id": "4b4592d5",
   "metadata": {},
   "outputs": [],
   "source": [
    "#ACTIVITY - 2"
   ]
  },
  {
   "cell_type": "code",
   "execution_count": null,
   "id": "b7de4aad",
   "metadata": {},
   "outputs": [],
   "source": [
    "dataframe1 = pd.read_csv('file3.csv')\n",
    "dataframe1"
   ]
  },
  {
   "cell_type": "code",
   "execution_count": null,
   "id": "2afaef92",
   "metadata": {},
   "outputs": [],
   "source": [
    "dataframe2 = pd.read_csv('file4.csv')\n",
    "dataframe2 "
   ]
  },
  {
   "cell_type": "code",
   "execution_count": null,
   "id": "e799733b",
   "metadata": {},
   "outputs": [],
   "source": [
    "frames = [dataframe1, dataframe2]\n",
    "newframe = pd.concat(frames)\n",
    "print(newframe)"
   ]
  },
  {
   "cell_type": "code",
   "execution_count": null,
   "id": "2e5902a0",
   "metadata": {},
   "outputs": [],
   "source": [
    "newDataframe = newframe.drop(['DOMAIN','DOB'])\n",
    "newDataframe"
   ]
  },
  {
   "cell_type": "code",
   "execution_count": null,
   "id": "4139f09c",
   "metadata": {},
   "outputs": [],
   "source": [
    "column = ['TARGET_D']\n",
    "filter_ = (newframe[column] < 100).all(axis=1)\n",
    "df[filter_]"
   ]
  },
  {
   "cell_type": "code",
   "execution_count": null,
   "id": "9f0ef5f8",
   "metadata": {},
   "outputs": [],
   "source": [
    "#ACTIVITY - 3"
   ]
  },
  {
   "cell_type": "code",
   "execution_count": null,
   "id": "e7cf02e0",
   "metadata": {},
   "outputs": [],
   "source": [
    "filtered_df = newframe.head(n=10)\n",
    "filtered_df"
   ]
  },
  {
   "cell_type": "code",
   "execution_count": null,
   "id": "14228c6d",
   "metadata": {},
   "outputs": [],
   "source": [
    "newDataSet = newframe.reset_index(level=None, *, drop=False, inplace=False, col_level=0, col_fill='', allow_duplicates=_NoDefault.no_default, names=None)\n",
    "newDataSet"
   ]
  },
  {
   "cell_type": "code",
   "execution_count": null,
   "id": "0f1036e7",
   "metadata": {},
   "outputs": [],
   "source": [
    "filtered_df = newframe[100:200]\n",
    "filtered_df"
   ]
  },
  {
   "cell_type": "code",
   "execution_count": null,
   "id": "a75b1632",
   "metadata": {},
   "outputs": [],
   "source": [
    "index_labels=[2,3,4,5]\n",
    "dataset = pd.newframe(newframe,index=index_labels)\n",
    "print(dataset)"
   ]
  },
  {
   "cell_type": "code",
   "execution_count": null,
   "id": "d892b6a0",
   "metadata": {},
   "outputs": [],
   "source": [
    "#ACTIVITY #4"
   ]
  },
  {
   "cell_type": "code",
   "execution_count": null,
   "id": "f558a07d",
   "metadata": {},
   "outputs": [],
   "source": [
    "newframe.dtypes"
   ]
  },
  {
   "cell_type": "code",
   "execution_count": null,
   "id": "c90ec97e",
   "metadata": {},
   "outputs": [],
   "source": [
    "newframe.select_dtypes(include=['float64','int64'])"
   ]
  },
  {
   "cell_type": "code",
   "execution_count": null,
   "id": "7a128d7c",
   "metadata": {},
   "outputs": [],
   "source": [
    "newframe['state','gender','hv1'] = pd.to_numeric(newframe['state','gender','hv1'])\n",
    "print(newframe) "
   ]
  },
  {
   "cell_type": "code",
   "execution_count": 2,
   "id": "ab8214fa",
   "metadata": {},
   "outputs": [
    {
     "ename": "SyntaxError",
     "evalue": "iterable argument unpacking follows keyword argument unpacking (1235525851.py, line 1)",
     "output_type": "error",
     "traceback": [
      "\u001b[1;36m  File \u001b[1;32m\"C:\\Users\\ruizg\\AppData\\Local\\Temp\\ipykernel_16296\\1235525851.py\"\u001b[1;36m, line \u001b[1;32m1\u001b[0m\n\u001b[1;33m    newframe.drop_duplicates(subset=None, *, keep='first', inplace=False, ignore_index=False)\u001b[0m\n\u001b[1;37m                                           ^\u001b[0m\n\u001b[1;31mSyntaxError\u001b[0m\u001b[1;31m:\u001b[0m iterable argument unpacking follows keyword argument unpacking\n"
     ]
    }
   ],
   "source": [
    "newDataframe = newframe.drop_duplicates(subset=None, *, keep='first', inplace=False, ignore_index=False) \n",
    "print(newDataframe) "
   ]
  },
  {
   "cell_type": "code",
   "execution_count": null,
   "id": "1fc85797",
   "metadata": {},
   "outputs": [],
   "source": []
  }
 ],
 "metadata": {
  "kernelspec": {
   "display_name": "Python 3 (ipykernel)",
   "language": "python",
   "name": "python3"
  },
  "language_info": {
   "codemirror_mode": {
    "name": "ipython",
    "version": 3
   },
   "file_extension": ".py",
   "mimetype": "text/x-python",
   "name": "python",
   "nbconvert_exporter": "python",
   "pygments_lexer": "ipython3",
   "version": "3.9.13"
  }
 },
 "nbformat": 4,
 "nbformat_minor": 5
}
